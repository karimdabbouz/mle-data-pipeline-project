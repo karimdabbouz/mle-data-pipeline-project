{
 "cells": [
  {
   "cell_type": "code",
   "execution_count": 88,
   "id": "ffe36143-8cad-4353-b546-21b09f7bbc0f",
   "metadata": {},
   "outputs": [],
   "source": [
    "import pandas as pd\n",
    "from google.cloud import storage\n",
    "import os, datetime\n",
    "from sqlalchemy import create_engine"
   ]
  },
  {
   "cell_type": "markdown",
   "id": "c62be592-d298-4d82-ab06-0403464f4d70",
   "metadata": {},
   "source": [
    "### I) Load data from GCS"
   ]
  },
  {
   "cell_type": "code",
   "execution_count": 35,
   "id": "4318e93e-f233-4544-9701-869245bb3295",
   "metadata": {},
   "outputs": [],
   "source": [
    "def load_data(bucket, key_path):\n",
    "    dfs = []\n",
    "    os.environ['GOOGLE_APPLICATION_CREDENTIALS'] = key_path\n",
    "    client = storage.Client()\n",
    "    bucket = client.get_bucket(bucket)\n",
    "    for month in range(1, 4):\n",
    "        gcs_path = f'green_taxi/green_tripdata_2021-{month:02d}.parquet'\n",
    "        temp_path = f'./data/{month:02d}.parquet'\n",
    "        blob = bucket.blob(gcs_path)\n",
    "        content = blob.download_to_filename(temp_path)\n",
    "        df = pd.read_parquet(temp_path)\n",
    "        dfs.append(df)\n",
    "    return pd.concat(dfs, ignore_index=True)"
   ]
  },
  {
   "cell_type": "code",
   "execution_count": 41,
   "id": "fbe90134-22e1-46a9-8cc9-0ddee238dca8",
   "metadata": {},
   "outputs": [],
   "source": [
    "df = load_data('mle-batch-and-stream-processing-bucket', './service_account_key.json')"
   ]
  },
  {
   "cell_type": "markdown",
   "id": "19f5f240-2ee4-4e97-8880-68d4bb661252",
   "metadata": {},
   "source": [
    "### II) Calculate revenue per day"
   ]
  },
  {
   "cell_type": "code",
   "execution_count": 82,
   "id": "1fe04ae0-ff9c-4bde-870f-c7e13c1a6087",
   "metadata": {},
   "outputs": [],
   "source": [
    "def transform_revenue_per_day(df):\n",
    "    columns_to_sum_up = ['fare_amount', 'extra', 'mta_tax', 'tip_amount', 'tolls_amount', 'improvement_surcharge', 'total_amount', 'congestion_surcharge']\n",
    "    df['lpep_dropoff_datetime'] = pd.to_datetime(df['lpep_dropoff_datetime']).dt.date\n",
    "    df_grouped = df.groupby('lpep_dropoff_datetime')[columns_to_sum_up].sum().reset_index()\n",
    "    return df_grouped"
   ]
  },
  {
   "cell_type": "code",
   "execution_count": 83,
   "id": "d93ccc1b-48f6-4c20-85fb-65241b5018fe",
   "metadata": {},
   "outputs": [],
   "source": [
    "df_grouped = transform_revenue_per_day(df)"
   ]
  },
  {
   "cell_type": "code",
   "execution_count": 84,
   "id": "a9288a9b-a3be-47bb-996c-807a80c3064e",
   "metadata": {},
   "outputs": [
    {
     "data": {
      "text/html": [
       "<div>\n",
       "<style scoped>\n",
       "    .dataframe tbody tr th:only-of-type {\n",
       "        vertical-align: middle;\n",
       "    }\n",
       "\n",
       "    .dataframe tbody tr th {\n",
       "        vertical-align: top;\n",
       "    }\n",
       "\n",
       "    .dataframe thead th {\n",
       "        text-align: right;\n",
       "    }\n",
       "</style>\n",
       "<table border=\"1\" class=\"dataframe\">\n",
       "  <thead>\n",
       "    <tr style=\"text-align: right;\">\n",
       "      <th></th>\n",
       "      <th>lpep_dropoff_datetime</th>\n",
       "      <th>fare_amount</th>\n",
       "      <th>extra</th>\n",
       "      <th>mta_tax</th>\n",
       "      <th>tip_amount</th>\n",
       "      <th>tolls_amount</th>\n",
       "      <th>improvement_surcharge</th>\n",
       "      <th>total_amount</th>\n",
       "      <th>congestion_surcharge</th>\n",
       "    </tr>\n",
       "  </thead>\n",
       "  <tbody>\n",
       "    <tr>\n",
       "      <th>0</th>\n",
       "      <td>2009-01-01</td>\n",
       "      <td>3.00</td>\n",
       "      <td>0.00</td>\n",
       "      <td>0.5</td>\n",
       "      <td>0.00</td>\n",
       "      <td>0.00</td>\n",
       "      <td>0.3</td>\n",
       "      <td>3.80</td>\n",
       "      <td>0.00</td>\n",
       "    </tr>\n",
       "    <tr>\n",
       "      <th>1</th>\n",
       "      <td>2021-01-01</td>\n",
       "      <td>21411.12</td>\n",
       "      <td>135.75</td>\n",
       "      <td>286.0</td>\n",
       "      <td>1992.31</td>\n",
       "      <td>621.34</td>\n",
       "      <td>301.8</td>\n",
       "      <td>25072.02</td>\n",
       "      <td>324.50</td>\n",
       "    </tr>\n",
       "    <tr>\n",
       "      <th>2</th>\n",
       "      <td>2021-01-02</td>\n",
       "      <td>35064.80</td>\n",
       "      <td>192.00</td>\n",
       "      <td>579.0</td>\n",
       "      <td>3502.09</td>\n",
       "      <td>847.83</td>\n",
       "      <td>565.5</td>\n",
       "      <td>41263.72</td>\n",
       "      <td>566.50</td>\n",
       "    </tr>\n",
       "    <tr>\n",
       "      <th>3</th>\n",
       "      <td>2021-01-03</td>\n",
       "      <td>25854.78</td>\n",
       "      <td>146.00</td>\n",
       "      <td>374.5</td>\n",
       "      <td>2650.61</td>\n",
       "      <td>685.39</td>\n",
       "      <td>395.1</td>\n",
       "      <td>30488.63</td>\n",
       "      <td>453.75</td>\n",
       "    </tr>\n",
       "    <tr>\n",
       "      <th>4</th>\n",
       "      <td>2021-01-04</td>\n",
       "      <td>58393.96</td>\n",
       "      <td>619.75</td>\n",
       "      <td>699.0</td>\n",
       "      <td>5952.27</td>\n",
       "      <td>1679.51</td>\n",
       "      <td>870.3</td>\n",
       "      <td>68902.04</td>\n",
       "      <td>778.00</td>\n",
       "    </tr>\n",
       "    <tr>\n",
       "      <th>...</th>\n",
       "      <td>...</td>\n",
       "      <td>...</td>\n",
       "      <td>...</td>\n",
       "      <td>...</td>\n",
       "      <td>...</td>\n",
       "      <td>...</td>\n",
       "      <td>...</td>\n",
       "      <td>...</td>\n",
       "      <td>...</td>\n",
       "    </tr>\n",
       "    <tr>\n",
       "      <th>87</th>\n",
       "      <td>2021-03-28</td>\n",
       "      <td>28411.23</td>\n",
       "      <td>1438.55</td>\n",
       "      <td>419.5</td>\n",
       "      <td>1725.55</td>\n",
       "      <td>800.61</td>\n",
       "      <td>430.5</td>\n",
       "      <td>33792.44</td>\n",
       "      <td>558.25</td>\n",
       "    </tr>\n",
       "    <tr>\n",
       "      <th>88</th>\n",
       "      <td>2021-03-29</td>\n",
       "      <td>57334.06</td>\n",
       "      <td>4479.90</td>\n",
       "      <td>616.0</td>\n",
       "      <td>1759.69</td>\n",
       "      <td>1856.02</td>\n",
       "      <td>817.2</td>\n",
       "      <td>67478.62</td>\n",
       "      <td>767.00</td>\n",
       "    </tr>\n",
       "    <tr>\n",
       "      <th>89</th>\n",
       "      <td>2021-03-30</td>\n",
       "      <td>61681.80</td>\n",
       "      <td>4605.57</td>\n",
       "      <td>726.0</td>\n",
       "      <td>2250.15</td>\n",
       "      <td>1577.31</td>\n",
       "      <td>893.7</td>\n",
       "      <td>72608.03</td>\n",
       "      <td>959.50</td>\n",
       "    </tr>\n",
       "    <tr>\n",
       "      <th>90</th>\n",
       "      <td>2021-03-31</td>\n",
       "      <td>60069.14</td>\n",
       "      <td>4554.60</td>\n",
       "      <td>760.0</td>\n",
       "      <td>2112.80</td>\n",
       "      <td>1581.66</td>\n",
       "      <td>914.7</td>\n",
       "      <td>70792.35</td>\n",
       "      <td>918.50</td>\n",
       "    </tr>\n",
       "    <tr>\n",
       "      <th>91</th>\n",
       "      <td>2021-04-01</td>\n",
       "      <td>331.36</td>\n",
       "      <td>6.25</td>\n",
       "      <td>3.5</td>\n",
       "      <td>0.00</td>\n",
       "      <td>6.12</td>\n",
       "      <td>2.7</td>\n",
       "      <td>349.93</td>\n",
       "      <td>0.00</td>\n",
       "    </tr>\n",
       "  </tbody>\n",
       "</table>\n",
       "<p>92 rows × 9 columns</p>\n",
       "</div>"
      ],
      "text/plain": [
       "   lpep_dropoff_datetime  fare_amount    extra  mta_tax  tip_amount  \\\n",
       "0             2009-01-01         3.00     0.00      0.5        0.00   \n",
       "1             2021-01-01     21411.12   135.75    286.0     1992.31   \n",
       "2             2021-01-02     35064.80   192.00    579.0     3502.09   \n",
       "3             2021-01-03     25854.78   146.00    374.5     2650.61   \n",
       "4             2021-01-04     58393.96   619.75    699.0     5952.27   \n",
       "..                   ...          ...      ...      ...         ...   \n",
       "87            2021-03-28     28411.23  1438.55    419.5     1725.55   \n",
       "88            2021-03-29     57334.06  4479.90    616.0     1759.69   \n",
       "89            2021-03-30     61681.80  4605.57    726.0     2250.15   \n",
       "90            2021-03-31     60069.14  4554.60    760.0     2112.80   \n",
       "91            2021-04-01       331.36     6.25      3.5        0.00   \n",
       "\n",
       "    tolls_amount  improvement_surcharge  total_amount  congestion_surcharge  \n",
       "0           0.00                    0.3          3.80                  0.00  \n",
       "1         621.34                  301.8      25072.02                324.50  \n",
       "2         847.83                  565.5      41263.72                566.50  \n",
       "3         685.39                  395.1      30488.63                453.75  \n",
       "4        1679.51                  870.3      68902.04                778.00  \n",
       "..           ...                    ...           ...                   ...  \n",
       "87        800.61                  430.5      33792.44                558.25  \n",
       "88       1856.02                  817.2      67478.62                767.00  \n",
       "89       1577.31                  893.7      72608.03                959.50  \n",
       "90       1581.66                  914.7      70792.35                918.50  \n",
       "91          6.12                    2.7        349.93                  0.00  \n",
       "\n",
       "[92 rows x 9 columns]"
      ]
     },
     "execution_count": 84,
     "metadata": {},
     "output_type": "execute_result"
    }
   ],
   "source": [
    "df_grouped"
   ]
  },
  {
   "cell_type": "markdown",
   "id": "60f4b145-5663-4e7f-83a5-384598ea57cb",
   "metadata": {},
   "source": [
    "### III) Write to database"
   ]
  },
  {
   "cell_type": "markdown",
   "id": "2f3be582-73dc-42c5-b7ed-7ae7d3fd49f8",
   "metadata": {},
   "source": [
    "docker run -d -e POSTGRES_USER='postgres' \\\n",
    "    --network=ny-taxi \\\n",
    "    -e POSTGRES_PASSWORD='postgres' \\\n",
    "    -e POSTGRES_DB='ny_taxi' \\\n",
    "    -v $(pwd)/db-data:/var/lib/postgresql/data \\\n",
    "    -p 5432:5432 \\\n",
    "    --name ny-taxi-db \\\n",
    "    postgres"
   ]
  },
  {
   "cell_type": "markdown",
   "id": "1bf4488e-5824-4a47-8927-ac00fa9e9bcd",
   "metadata": {},
   "source": [
    "docker exec -it ny-taxi-db psql -U postgres "
   ]
  },
  {
   "cell_type": "code",
   "execution_count": 86,
   "id": "a3fecbec-430c-4fae-b808-d02e7c02cbf1",
   "metadata": {},
   "outputs": [],
   "source": [
    "def data_ingestion(df, username, password, host, port, db_name):\n",
    "    engine = create_engine(f'postgresql://{username}:{password}@{host}:{port}/{db_name}')\n",
    "    df.to_sql('revenue_per_day', engine, if_exists='replace', index=False)"
   ]
  },
  {
   "cell_type": "code",
   "execution_count": 92,
   "id": "0a99af55-4307-4cee-9303-b67210ea0faa",
   "metadata": {},
   "outputs": [],
   "source": [
    "data_ingestion(df_grouped, 'postgres', 'postgres', 'localhost', '5432', 'ny_taxi')"
   ]
  },
  {
   "cell_type": "code",
   "execution_count": null,
   "id": "b2e1e710-6399-40a4-8ab3-b25d01cdfd53",
   "metadata": {},
   "outputs": [],
   "source": []
  },
  {
   "cell_type": "code",
   "execution_count": null,
   "id": "7b025fde-abaf-4b01-bbf8-9d91dff5d655",
   "metadata": {},
   "outputs": [],
   "source": []
  }
 ],
 "metadata": {
  "kernelspec": {
   "display_name": "Python 3 (ipykernel)",
   "language": "python",
   "name": "python3"
  },
  "language_info": {
   "codemirror_mode": {
    "name": "ipython",
    "version": 3
   },
   "file_extension": ".py",
   "mimetype": "text/x-python",
   "name": "python",
   "nbconvert_exporter": "python",
   "pygments_lexer": "ipython3",
   "version": "3.11.5"
  }
 },
 "nbformat": 4,
 "nbformat_minor": 5
}
